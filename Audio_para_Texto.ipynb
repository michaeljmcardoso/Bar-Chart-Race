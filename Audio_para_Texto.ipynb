{
  "nbformat": 4,
  "nbformat_minor": 0,
  "metadata": {
    "colab": {
      "provenance": [],
      "mount_file_id": "1NWAfsaW--gDghq9zhkrp7Z2alh0R6k7G",
      "authorship_tag": "ABX9TyOp2xakJ2rzlVY+z5qmzKKL",
      "include_colab_link": true
    },
    "kernelspec": {
      "name": "python3",
      "display_name": "Python 3"
    },
    "language_info": {
      "name": "python"
    }
  },
  "cells": [
    {
      "cell_type": "markdown",
      "metadata": {
        "id": "view-in-github",
        "colab_type": "text"
      },
      "source": [
        "<a href=\"https://colab.research.google.com/github/michaeljmcardoso/TransriptAudioText/blob/main/Audio_para_Texto.ipynb\" target=\"_parent\"><img src=\"https://colab.research.google.com/assets/colab-badge.svg\" alt=\"Open In Colab\"/></a>"
      ]
    },
    {
      "cell_type": "markdown",
      "source": [
        "O primeiro passo é instalar a biblioteca speech_recognition antes de executar o programa. Você pode instalá-la usando o seguinte comando no terminal:\n",
        "\n",
        "pip install SpeechRecognition\n"
      ],
      "metadata": {
        "id": "dN980KA_xt02"
      }
    },
    {
      "cell_type": "code",
      "source": [
        "! pip install SpeechRecognition -q"
      ],
      "metadata": {
        "colab": {
          "base_uri": "https://localhost:8080/"
        },
        "id": "XHmGaRBmyJBo",
        "outputId": "5229ff82-c5b2-4f1b-a2f8-00d2e439c5a2"
      },
      "execution_count": 2,
      "outputs": [
        {
          "output_type": "stream",
          "name": "stdout",
          "text": [
            "\u001b[2K     \u001b[90m━━━━━━━━━━━━━━━━━━━━━━━━━━━━━━━━━━━━━━━━\u001b[0m \u001b[32m32.8/32.8 MB\u001b[0m \u001b[31m37.3 MB/s\u001b[0m eta \u001b[36m0:00:00\u001b[0m\n",
            "\u001b[?25h"
          ]
        }
      ]
    },
    {
      "cell_type": "markdown",
      "source": [
        "Agora vamos importar a biblioteca speech_recognition como sr."
      ],
      "metadata": {
        "id": "72rbXVj-wK6n"
      }
    },
    {
      "cell_type": "code",
      "execution_count": 3,
      "metadata": {
        "id": "gqIrf_4twB3k"
      },
      "outputs": [],
      "source": [
        "# importa a biblioteca necessária\n",
        "import speech_recognition as sr"
      ]
    },
    {
      "cell_type": "markdown",
      "source": [
        "Em seguida, definimos uma função chamada audio_para_texto que recebe o nome do arquivo de áudio como parâmetro. Dentro da função, inicializamos um objeto Recognizer da classe speech_recognition.Recognizer()."
      ],
      "metadata": {
        "id": "9E2DV0wNwYEP"
      }
    },
    {
      "cell_type": "code",
      "source": [
        "# cria a função audio_para_texto\n",
        "def audio_para_texto(nome_arquivo):\n",
        "    # Inicializa o reconhecedor de fala\n",
        "    r = sr.Recognizer()\n",
        "\n",
        "    # Lê o arquivo de áudio\n",
        "    with sr.AudioFile(nome_arquivo) as arquivo:\n",
        "        # Lê o áudio usando o reconhecedor de fala\n",
        "        audio = r.record(arquivo)\n",
        "\n",
        "        # Realiza a conversão de áudio para texto\n",
        "        texto = r.recognize_google(audio, language='pt-BR')\n",
        "\n",
        "        # Retorna o texto reconhecido\n",
        "        return texto"
      ],
      "metadata": {
        "id": "4FBvRl9twjAF"
      },
      "execution_count": 5,
      "outputs": []
    },
    {
      "cell_type": "markdown",
      "source": [
        "Abrimos o arquivo de áudio usando sr.AudioFile(nome_arquivo) e o atribuímos à variável arquivo. Utilizamos o método record do objeto Recognizer para gravar o áudio do arquivo. Em seguida, usamos o método recognize_google do objeto Recognizer para converter o áudio em texto. Especificamos o idioma como 'pt-BR' para reconhecimento em português do Brasil. Você pode alterar o idioma conforme necessário. Por fim, retornamos o texto reconhecido."
      ],
      "metadata": {
        "id": "OTkovPVdwsh2"
      }
    },
    {
      "cell_type": "markdown",
      "source": [
        "Na parte principal do programa, especificamos o nome do arquivo de áudio que queremos converter (nome_arquivo_audio).\n",
        "Chamamos a função audio_para_texto passando o nome do arquivo como argumento e armazenamos o texto reconhecido na variável texto_reconhecido.\n",
        "Por fim, imprimimos o texto reconhecido."
      ],
      "metadata": {
        "id": "m4cMwisYw8xf"
      }
    },
    {
      "cell_type": "code",
      "source": [
        "# Nome do arquivo de áudio\n",
        "nome_arquivo_audio = '/content/drive/MyDrive/audioTest.wav'\n",
        "\n",
        "# Chama a função de conversão de áudio para texto\n",
        "texto_reconhecido = audio_para_texto(nome_arquivo_audio)\n",
        "\n",
        "# Imprime o texto reconhecido\n",
        "print('Texto reconhecido:', texto_reconhecido)"
      ],
      "metadata": {
        "colab": {
          "base_uri": "https://localhost:8080/"
        },
        "id": "KkB-hTh_w_cQ",
        "outputId": "384fd059-44bf-410a-b935-a3b566aa2d11"
      },
      "execution_count": 6,
      "outputs": [
        {
          "output_type": "stream",
          "name": "stdout",
          "text": [
            "Texto reconhecido: mensagem de áudio para texto testando 1 2 3\n"
          ]
        }
      ]
    }
  ]
}